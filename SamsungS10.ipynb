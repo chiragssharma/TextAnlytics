{
 "cells": [
  {
   "cell_type": "code",
   "execution_count": 7,
   "metadata": {},
   "outputs": [],
   "source": [
    "import sys\n",
    "from bs4 import BeautifulSoup\n",
    "import requests   # use this only, not urllibx anymore.\n",
    "import re\n",
    "import pandas as pd\n",
    "import sys\n",
    "import os\n",
    "import time"
   ]
  },
  {
   "cell_type": "code",
   "execution_count": 8,
   "metadata": {},
   "outputs": [],
   "source": [
    "amzn_oneplus = \"https://www.amazon.in/Samsung-Galaxy-Storage-Additional-Exchange/product-reviews/B07KXCH2FP/ref=cm_cr_arp_d_viewopt_srt?ie=UTF8&reviewerType=all_reviews&sortBy=recent&pageNumber=\"\n",
    "\n",
    "abs_path = os.path.abspath('__file__')\n",
    "path_csv = os.path.join(abs_path, \"./SamsungS10_amazon_cpy.csv\")\n",
    "# Check if the file exist \n",
    "if os.path.exists(path_csv):\n",
    "    # if file exist read the CSV file\n",
    "    os.remove(abs_path,\"SamsungS10_amazon_cpy.csv\")\n",
    "    #df1 = pd.read_csv('./Oneplus_amazon.csv')\n"
   ]
  },
  {
   "cell_type": "code",
   "execution_count": 9,
   "metadata": {},
   "outputs": [],
   "source": [
    "amzn_links = [str(amzn_oneplus) + str(pg) for pg in range(1,20)]\n",
    "require_columns = ['Name','Rating','Title','Date','Type','Review']"
   ]
  },
  {
   "cell_type": "code",
   "execution_count": 10,
   "metadata": {},
   "outputs": [],
   "source": [
    "count = 0\n",
    "for pg in amzn_links:\n",
    "    count += 1\n",
    "    page = requests.get(pg).text\n",
    "    #time.sleep(1)\n",
    "    soup_obj = BeautifulSoup(page, \"lxml\")\n",
    "    nor_per_page = soup_obj.select(\"#filter-info-section .a-size-base\")\n",
    "    amzn_1pg_scrape_data = []\n",
    "    df = pd.DataFrame(columns=require_columns)\n",
    "\n",
    "    allreview_per_pg = soup_obj.find_all(\"div\",class_=\"a-section celwidget\")\n",
    "        \n",
    "    for i in allreview_per_pg:\n",
    "        oneplus_info = []\n",
    "        oneplus_info.append(i.find(\"span\",class_=\"a-profile-name\").text)\n",
    "        unfmt_rating = i.find(\"a\",class_=\"a-link-normal\").text\n",
    "        oneplus_info.append(re.split(\"\\s\", unfmt_rating, 1)[0])\n",
    "        oneplus_info.append(i.find(\"a\",class_=\"a-size-base a-link-normal review-title a-color-base review-title-content a-text-bold\").text)\n",
    "        oneplus_info.append(i.find(\"span\",class_=\"a-size-base a-color-secondary review-date\").text)\n",
    "        oneplus_info.append(i.find(\"a\",class_=\"a-size-mini a-link-normal a-color-secondary\").text)\n",
    "        oneplus_info.append(i.find(\"span\",class_=\"a-size-base review-text review-text-content\").text)\n",
    "        #print(oneplus_info)\n",
    "        amzn_1pg_scrape_data.append(oneplus_info)\n",
    "        #df2.to_csv(\"login.csv\", index=False)\n",
    "    df=df.append(pd.DataFrame(amzn_1pg_scrape_data,columns=require_columns),ignore_index=True)\n",
    "    #print(df)\n",
    "    if(count%50==0):\n",
    "        print(count)\n",
    "    df.to_csv('SamsungS10_amazon_cpy.csv',  sep=',',  encoding='utf-8', mode='a',header=False)\n"
   ]
  },
  {
   "cell_type": "code",
   "execution_count": null,
   "metadata": {},
   "outputs": [],
   "source": []
  },
  {
   "cell_type": "code",
   "execution_count": null,
   "metadata": {},
   "outputs": [],
   "source": []
  }
 ],
 "metadata": {
  "kernelspec": {
   "display_name": "Python 3",
   "language": "python",
   "name": "python3"
  },
  "language_info": {
   "codemirror_mode": {
    "name": "ipython",
    "version": 3
   },
   "file_extension": ".py",
   "mimetype": "text/x-python",
   "name": "python",
   "nbconvert_exporter": "python",
   "pygments_lexer": "ipython3",
   "version": "3.7.1"
  }
 },
 "nbformat": 4,
 "nbformat_minor": 2
}
